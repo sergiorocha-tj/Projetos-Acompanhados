{
  "cells": [
    {
      "cell_type": "markdown",
      "metadata": {
        "id": "view-in-github",
        "colab_type": "text"
      },
      "source": [
        "<a href=\"https://colab.research.google.com/github/sergiorocha-tj/Projetos-Acompanhados/blob/main/Projeto_1_Analisando_os_Dados_do_Airbnb_Rio_de_Janeiro.ipynb\" target=\"_parent\"><img src=\"https://colab.research.google.com/assets/colab-badge.svg\" alt=\"Open In Colab\"/></a>"
      ]
    },
    {
      "cell_type": "markdown",
      "source": [
        "# Nova seção"
      ],
      "metadata": {
        "id": "h8w3q-pCl5Yo"
      }
    },
    {
      "cell_type": "markdown",
      "source": [
        "**Obtenção dos Dados**\n",
        "Todos os dados usados aqui tem como fonte o [Site Airbnb](http://insideairbnb.com/)\n",
        "Para essa análise exploratório, será baixado apenas o seguinte arquivo:\n",
        "\n",
        "*   listings.csv - *Informações resumidas e métricas para listagens no Rio de Janeiro (bom para visualizações)*.\n",
        "\n"
      ],
      "metadata": {
        "id": "rRu23IeaoW4T"
      }
    },
    {
      "cell_type": "code",
      "source": [
        "# Importar os Pacotes necessários\n",
        "import pandas as pd\n",
        "import matplotlib.pyplot as plt\n",
        "import seaborn as sns\n",
        "\n",
        "%matplotlib inline"
      ],
      "metadata": {
        "id": "GomOdYHooVUK"
      },
      "execution_count": null,
      "outputs": []
    },
    {
      "cell_type": "code",
      "source": [
        "# Importar o Aquivo listings.csv para um DataFrame\n",
        "df = pd.read_csv(\"http://data.insideairbnb.com/brazil/rj/rio-de-janeiro/2021-10-26/visualisations/listings.csv\")"
      ],
      "metadata": {
        "id": "n2iX2HNjp3Kr"
      },
      "execution_count": null,
      "outputs": []
    },
    {
      "cell_type": "markdown",
      "source": [
        "**Análise dos Dados**\n",
        "Esta etapa tem como objetivo criar uma conscienia situacional inicial e permitir um entendimento de como os dados estão estruturados.\n",
        "\n",
        "**Dicionário das Variáveis**\n",
        "\n",
        "*   id - nº Gerado para Imóvel\n",
        "*   name - nome da Propriedade\n",
        "*   host_id - número de id do proprietário anfitrião\n",
        "*   host_name - Nome do anfitrião\n",
        "*   neighbourhood - Nome do Anfitrião\n",
        "*   neighbourhood_group - Sem valor válido\n",
        "*   latidude - latidude\n",
        "*   longitude - longitude \n",
        "*   room_type - Informa o tipo de quarto ofertado\n",
        "*   price - preço para alugar imóvel\n",
        "*   minimum_nights - Qtde minima noites\n",
        "*   last_review - data do último review\n",
        "*   reviews_per_month - Qtde reviews por mês\n",
        "*   calculated_host_listings_count - Qdade imoveis mesmo anfitrião\n",
        "*   availability_365 - nº dias diponível dentro de 365 dias\n",
        "\n",
        "Vamos abrir as 5ª entradas do *dataset*.\n",
        "\n",
        "\n"
      ],
      "metadata": {
        "id": "Q86Zv89TqVz7"
      }
    },
    {
      "cell_type": "code",
      "source": [
        "df.head()"
      ],
      "metadata": {
        "id": "6Kpw3FL_ujeP",
        "outputId": "4c461160-a591-476e-ab45-ffa2af84b9ad",
        "colab": {
          "base_uri": "https://localhost:8080/",
          "height": 513
        }
      },
      "execution_count": null,
      "outputs": [
        {
          "output_type": "execute_result",
          "data": {
            "text/html": [
              "\n",
              "  <div id=\"df-177f5957-fc8b-482e-af2a-dc4a5d60a8fa\">\n",
              "    <div class=\"colab-df-container\">\n",
              "      <div>\n",
              "<style scoped>\n",
              "    .dataframe tbody tr th:only-of-type {\n",
              "        vertical-align: middle;\n",
              "    }\n",
              "\n",
              "    .dataframe tbody tr th {\n",
              "        vertical-align: top;\n",
              "    }\n",
              "\n",
              "    .dataframe thead th {\n",
              "        text-align: right;\n",
              "    }\n",
              "</style>\n",
              "<table border=\"1\" class=\"dataframe\">\n",
              "  <thead>\n",
              "    <tr style=\"text-align: right;\">\n",
              "      <th></th>\n",
              "      <th>id</th>\n",
              "      <th>name</th>\n",
              "      <th>host_id</th>\n",
              "      <th>host_name</th>\n",
              "      <th>neighbourhood_group</th>\n",
              "      <th>neighbourhood</th>\n",
              "      <th>latitude</th>\n",
              "      <th>longitude</th>\n",
              "      <th>room_type</th>\n",
              "      <th>price</th>\n",
              "      <th>minimum_nights</th>\n",
              "      <th>number_of_reviews</th>\n",
              "      <th>last_review</th>\n",
              "      <th>reviews_per_month</th>\n",
              "      <th>calculated_host_listings_count</th>\n",
              "      <th>availability_365</th>\n",
              "      <th>number_of_reviews_ltm</th>\n",
              "      <th>license</th>\n",
              "    </tr>\n",
              "  </thead>\n",
              "  <tbody>\n",
              "    <tr>\n",
              "      <th>0</th>\n",
              "      <td>17878</td>\n",
              "      <td>Very Nice 2Br in Copacabana w. balcony, fast WiFi</td>\n",
              "      <td>68997</td>\n",
              "      <td>Matthias</td>\n",
              "      <td>NaN</td>\n",
              "      <td>Copacabana</td>\n",
              "      <td>-22.96599</td>\n",
              "      <td>-43.17940</td>\n",
              "      <td>Entire home/apt</td>\n",
              "      <td>350</td>\n",
              "      <td>5</td>\n",
              "      <td>266</td>\n",
              "      <td>2021-05-21</td>\n",
              "      <td>2.07</td>\n",
              "      <td>1</td>\n",
              "      <td>262</td>\n",
              "      <td>12</td>\n",
              "      <td>NaN</td>\n",
              "    </tr>\n",
              "    <tr>\n",
              "      <th>1</th>\n",
              "      <td>24480</td>\n",
              "      <td>Nice and cozy near Ipanema Beach, w/ home office</td>\n",
              "      <td>99249</td>\n",
              "      <td>Goya</td>\n",
              "      <td>NaN</td>\n",
              "      <td>Ipanema</td>\n",
              "      <td>-22.98405</td>\n",
              "      <td>-43.20189</td>\n",
              "      <td>Entire home/apt</td>\n",
              "      <td>296</td>\n",
              "      <td>3</td>\n",
              "      <td>85</td>\n",
              "      <td>2017-04-22</td>\n",
              "      <td>0.85</td>\n",
              "      <td>1</td>\n",
              "      <td>57</td>\n",
              "      <td>0</td>\n",
              "      <td>NaN</td>\n",
              "    </tr>\n",
              "    <tr>\n",
              "      <th>2</th>\n",
              "      <td>25026</td>\n",
              "      <td>Beautiful Modern Decorated Studio in Copa</td>\n",
              "      <td>102840</td>\n",
              "      <td>Viviane</td>\n",
              "      <td>NaN</td>\n",
              "      <td>Copacabana</td>\n",
              "      <td>-22.97735</td>\n",
              "      <td>-43.19105</td>\n",
              "      <td>Entire home/apt</td>\n",
              "      <td>168</td>\n",
              "      <td>4</td>\n",
              "      <td>238</td>\n",
              "      <td>2019-04-27</td>\n",
              "      <td>1.84</td>\n",
              "      <td>1</td>\n",
              "      <td>300</td>\n",
              "      <td>0</td>\n",
              "      <td>NaN</td>\n",
              "    </tr>\n",
              "    <tr>\n",
              "      <th>3</th>\n",
              "      <td>35636</td>\n",
              "      <td>Cosy flat close to Ipanema beach</td>\n",
              "      <td>153232</td>\n",
              "      <td>Patricia</td>\n",
              "      <td>NaN</td>\n",
              "      <td>Ipanema</td>\n",
              "      <td>-22.98839</td>\n",
              "      <td>-43.19232</td>\n",
              "      <td>Entire home/apt</td>\n",
              "      <td>278</td>\n",
              "      <td>2</td>\n",
              "      <td>181</td>\n",
              "      <td>2019-12-06</td>\n",
              "      <td>1.90</td>\n",
              "      <td>1</td>\n",
              "      <td>179</td>\n",
              "      <td>0</td>\n",
              "      <td>NaN</td>\n",
              "    </tr>\n",
              "    <tr>\n",
              "      <th>4</th>\n",
              "      <td>35764</td>\n",
              "      <td>COPACABANA SEA BREEZE  -  RIO - 20 X Superhost</td>\n",
              "      <td>153691</td>\n",
              "      <td>Patricia Miranda &amp; Paulo</td>\n",
              "      <td>NaN</td>\n",
              "      <td>Copacabana</td>\n",
              "      <td>-22.98107</td>\n",
              "      <td>-43.19136</td>\n",
              "      <td>Entire home/apt</td>\n",
              "      <td>150</td>\n",
              "      <td>3</td>\n",
              "      <td>373</td>\n",
              "      <td>2019-06-15</td>\n",
              "      <td>3.05</td>\n",
              "      <td>1</td>\n",
              "      <td>59</td>\n",
              "      <td>34</td>\n",
              "      <td>NaN</td>\n",
              "    </tr>\n",
              "  </tbody>\n",
              "</table>\n",
              "</div>\n",
              "      <button class=\"colab-df-convert\" onclick=\"convertToInteractive('df-177f5957-fc8b-482e-af2a-dc4a5d60a8fa')\"\n",
              "              title=\"Convert this dataframe to an interactive table.\"\n",
              "              style=\"display:none;\">\n",
              "        \n",
              "  <svg xmlns=\"http://www.w3.org/2000/svg\" height=\"24px\"viewBox=\"0 0 24 24\"\n",
              "       width=\"24px\">\n",
              "    <path d=\"M0 0h24v24H0V0z\" fill=\"none\"/>\n",
              "    <path d=\"M18.56 5.44l.94 2.06.94-2.06 2.06-.94-2.06-.94-.94-2.06-.94 2.06-2.06.94zm-11 1L8.5 8.5l.94-2.06 2.06-.94-2.06-.94L8.5 2.5l-.94 2.06-2.06.94zm10 10l.94 2.06.94-2.06 2.06-.94-2.06-.94-.94-2.06-.94 2.06-2.06.94z\"/><path d=\"M17.41 7.96l-1.37-1.37c-.4-.4-.92-.59-1.43-.59-.52 0-1.04.2-1.43.59L10.3 9.45l-7.72 7.72c-.78.78-.78 2.05 0 2.83L4 21.41c.39.39.9.59 1.41.59.51 0 1.02-.2 1.41-.59l7.78-7.78 2.81-2.81c.8-.78.8-2.07 0-2.86zM5.41 20L4 18.59l7.72-7.72 1.47 1.35L5.41 20z\"/>\n",
              "  </svg>\n",
              "      </button>\n",
              "      \n",
              "  <style>\n",
              "    .colab-df-container {\n",
              "      display:flex;\n",
              "      flex-wrap:wrap;\n",
              "      gap: 12px;\n",
              "    }\n",
              "\n",
              "    .colab-df-convert {\n",
              "      background-color: #E8F0FE;\n",
              "      border: none;\n",
              "      border-radius: 50%;\n",
              "      cursor: pointer;\n",
              "      display: none;\n",
              "      fill: #1967D2;\n",
              "      height: 32px;\n",
              "      padding: 0 0 0 0;\n",
              "      width: 32px;\n",
              "    }\n",
              "\n",
              "    .colab-df-convert:hover {\n",
              "      background-color: #E2EBFA;\n",
              "      box-shadow: 0px 1px 2px rgba(60, 64, 67, 0.3), 0px 1px 3px 1px rgba(60, 64, 67, 0.15);\n",
              "      fill: #174EA6;\n",
              "    }\n",
              "\n",
              "    [theme=dark] .colab-df-convert {\n",
              "      background-color: #3B4455;\n",
              "      fill: #D2E3FC;\n",
              "    }\n",
              "\n",
              "    [theme=dark] .colab-df-convert:hover {\n",
              "      background-color: #434B5C;\n",
              "      box-shadow: 0px 1px 3px 1px rgba(0, 0, 0, 0.15);\n",
              "      filter: drop-shadow(0px 1px 2px rgba(0, 0, 0, 0.3));\n",
              "      fill: #FFFFFF;\n",
              "    }\n",
              "  </style>\n",
              "\n",
              "      <script>\n",
              "        const buttonEl =\n",
              "          document.querySelector('#df-177f5957-fc8b-482e-af2a-dc4a5d60a8fa button.colab-df-convert');\n",
              "        buttonEl.style.display =\n",
              "          google.colab.kernel.accessAllowed ? 'block' : 'none';\n",
              "\n",
              "        async function convertToInteractive(key) {\n",
              "          const element = document.querySelector('#df-177f5957-fc8b-482e-af2a-dc4a5d60a8fa');\n",
              "          const dataTable =\n",
              "            await google.colab.kernel.invokeFunction('convertToInteractive',\n",
              "                                                     [key], {});\n",
              "          if (!dataTable) return;\n",
              "\n",
              "          const docLinkHtml = 'Like what you see? Visit the ' +\n",
              "            '<a target=\"_blank\" href=https://colab.research.google.com/notebooks/data_table.ipynb>data table notebook</a>'\n",
              "            + ' to learn more about interactive tables.';\n",
              "          element.innerHTML = '';\n",
              "          dataTable['output_type'] = 'display_data';\n",
              "          await google.colab.output.renderOutput(dataTable, element);\n",
              "          const docLink = document.createElement('div');\n",
              "          docLink.innerHTML = docLinkHtml;\n",
              "          element.appendChild(docLink);\n",
              "        }\n",
              "      </script>\n",
              "    </div>\n",
              "  </div>\n",
              "  "
            ],
            "text/plain": [
              "      id  ... license\n",
              "0  17878  ...     NaN\n",
              "1  24480  ...     NaN\n",
              "2  25026  ...     NaN\n",
              "3  35636  ...     NaN\n",
              "4  35764  ...     NaN\n",
              "\n",
              "[5 rows x 18 columns]"
            ]
          },
          "metadata": {},
          "execution_count": 8
        }
      ]
    },
    {
      "cell_type": "markdown",
      "source": [
        "# **Q1. Quantos atributos (variáveis ) e quantas Entradas o nosso conjunto de dados possui? Quais os tipos de Variáveis?**\n"
      ],
      "metadata": {
        "id": "quKzeC_xvDKE"
      }
    },
    {
      "cell_type": "code",
      "source": [
        "#Tamnho do arquivo (Linhas x Colunas)\n",
        "df.shape"
      ],
      "metadata": {
        "id": "95SmjjsBviHq",
        "outputId": "72b9f1bb-ede1-4479-8364-49bc1ea2e46e",
        "colab": {
          "base_uri": "https://localhost:8080/"
        }
      },
      "execution_count": null,
      "outputs": [
        {
          "output_type": "execute_result",
          "data": {
            "text/plain": [
              "(23359, 18)"
            ]
          },
          "metadata": {},
          "execution_count": 15
        }
      ]
    },
    {
      "cell_type": "code",
      "source": [
        "#Identificar o volume de dados do DataFrame\n",
        "print(\"Variváris:\\t {}\". format(df.shape[0]))\n",
        "print(\"Entradas:\\t {}\\n\". format(df.shape[1]))\n",
        "print(\"Entradas: \\t\", df.shape[1])"
      ],
      "metadata": {
        "id": "Gh2rXFnywkNA",
        "outputId": "09e8cd11-27c8-4626-b9cc-dd0c56f6ebcd",
        "colab": {
          "base_uri": "https://localhost:8080/"
        }
      },
      "execution_count": null,
      "outputs": [
        {
          "output_type": "stream",
          "name": "stdout",
          "text": [
            "Variváris:\t 23359\n",
            "Entradas:\t 18\n",
            "\n",
            "Entradas: \t 18\n"
          ]
        }
      ]
    },
    {
      "cell_type": "code",
      "source": [
        "#Verificar as 5 primeiras entradas do dataset\n",
        "display(df.dtypes)"
      ],
      "metadata": {
        "id": "YqOph6BaxP01",
        "outputId": "ceba7e3b-237d-45ff-85d9-2ebf822e2526",
        "colab": {
          "base_uri": "https://localhost:8080/",
          "height": 347
        }
      },
      "execution_count": null,
      "outputs": [
        {
          "output_type": "display_data",
          "data": {
            "text/plain": [
              "id                                  int64\n",
              "name                               object\n",
              "host_id                             int64\n",
              "host_name                          object\n",
              "neighbourhood_group               float64\n",
              "neighbourhood                      object\n",
              "latitude                          float64\n",
              "longitude                         float64\n",
              "room_type                          object\n",
              "price                               int64\n",
              "minimum_nights                      int64\n",
              "number_of_reviews                   int64\n",
              "last_review                        object\n",
              "reviews_per_month                 float64\n",
              "calculated_host_listings_count      int64\n",
              "availability_365                    int64\n",
              "number_of_reviews_ltm               int64\n",
              "license                           float64\n",
              "dtype: object"
            ]
          },
          "metadata": {}
        }
      ]
    },
    {
      "cell_type": "markdown",
      "source": [
        "# **Q2. Qual a porcentagem de dados ausentes no data Set?**\n",
        "\n",
        "*   Coluna neighbourhood_group possui 100% dos seus dados faltantes.\n",
        "*   Variáveis reviews_per_month e last_review possuem quase 50% de valores nulos.\n",
        "*   Variáveis name e host_name tem aproximadamente 0,1% dos valores nulos."
      ],
      "metadata": {
        "id": "9OPVdc7bxb3e"
      }
    },
    {
      "cell_type": "code",
      "source": [
        "#Ordenar em ordem descrescente as várias por seus valores ausentes\n",
        "(df.isnull().sum() / df.shape[0]).sort_values(ascending=False)"
      ],
      "metadata": {
        "id": "vs1R8KNhyWfK",
        "outputId": "b4385a48-05e6-4ce9-f0ca-612702c09021",
        "colab": {
          "base_uri": "https://localhost:8080/"
        }
      },
      "execution_count": null,
      "outputs": [
        {
          "output_type": "execute_result",
          "data": {
            "text/plain": [
              "license                           1.000000\n",
              "neighbourhood_group               1.000000\n",
              "reviews_per_month                 0.353269\n",
              "last_review                       0.353269\n",
              "name                              0.000899\n",
              "host_name                         0.000214\n",
              "longitude                         0.000000\n",
              "host_id                           0.000000\n",
              "neighbourhood                     0.000000\n",
              "latitude                          0.000000\n",
              "room_type                         0.000000\n",
              "number_of_reviews_ltm             0.000000\n",
              "price                             0.000000\n",
              "minimum_nights                    0.000000\n",
              "number_of_reviews                 0.000000\n",
              "calculated_host_listings_count    0.000000\n",
              "availability_365                  0.000000\n",
              "id                                0.000000\n",
              "dtype: float64"
            ]
          },
          "metadata": {},
          "execution_count": 23
        }
      ]
    },
    {
      "cell_type": "code",
      "source": [
        "#Soma quantos valores faltantes existem\n",
        "df.isnull().sum()"
      ],
      "metadata": {
        "id": "to_zjnz7zDga",
        "outputId": "f6af0538-7f3b-4fdd-9bbb-239dfb1681cf",
        "colab": {
          "base_uri": "https://localhost:8080/"
        }
      },
      "execution_count": null,
      "outputs": [
        {
          "output_type": "execute_result",
          "data": {
            "text/plain": [
              "id                                    0\n",
              "name                                 21\n",
              "host_id                               0\n",
              "host_name                             5\n",
              "neighbourhood_group               23359\n",
              "neighbourhood                         0\n",
              "latitude                              0\n",
              "longitude                             0\n",
              "room_type                             0\n",
              "price                                 0\n",
              "minimum_nights                        0\n",
              "number_of_reviews                     0\n",
              "last_review                        8252\n",
              "reviews_per_month                  8252\n",
              "calculated_host_listings_count        0\n",
              "availability_365                      0\n",
              "number_of_reviews_ltm                 0\n",
              "license                           23359\n",
              "dtype: int64"
            ]
          },
          "metadata": {},
          "execution_count": 24
        }
      ]
    },
    {
      "cell_type": "code",
      "source": [
        "#Quantidade de Valores\n",
        "df.shape[0]"
      ],
      "metadata": {
        "id": "hQeYagx_y1Ih",
        "outputId": "6339f67c-91f2-4b62-da6c-8fe07b6e762a",
        "colab": {
          "base_uri": "https://localhost:8080/"
        }
      },
      "execution_count": null,
      "outputs": [
        {
          "output_type": "execute_result",
          "data": {
            "text/plain": [
              "23359"
            ]
          },
          "metadata": {},
          "execution_count": 25
        }
      ]
    },
    {
      "cell_type": "code",
      "source": [
        "#Pegar valor e dividir pelo Quantidade Total, Resultando na porcentagem\n",
        "df.isnull().sum() / df.shape[0]"
      ],
      "metadata": {
        "id": "JQ5AyeqxzlmV",
        "outputId": "4f30d559-cab6-4cc9-f727-eb89928ba9ae",
        "colab": {
          "base_uri": "https://localhost:8080/"
        }
      },
      "execution_count": null,
      "outputs": [
        {
          "output_type": "execute_result",
          "data": {
            "text/plain": [
              "id                                0.000000\n",
              "name                              0.000899\n",
              "host_id                           0.000000\n",
              "host_name                         0.000214\n",
              "neighbourhood_group               1.000000\n",
              "neighbourhood                     0.000000\n",
              "latitude                          0.000000\n",
              "longitude                         0.000000\n",
              "room_type                         0.000000\n",
              "price                             0.000000\n",
              "minimum_nights                    0.000000\n",
              "number_of_reviews                 0.000000\n",
              "last_review                       0.353269\n",
              "reviews_per_month                 0.353269\n",
              "calculated_host_listings_count    0.000000\n",
              "availability_365                  0.000000\n",
              "number_of_reviews_ltm             0.000000\n",
              "license                           1.000000\n",
              "dtype: float64"
            ]
          },
          "metadata": {},
          "execution_count": 27
        }
      ]
    },
    {
      "cell_type": "markdown",
      "source": [
        "# **Q3. Qual o tipo de Distribuição das Variáveis?**\n",
        "\n",
        "Para identificar a Distribuição das Variáveis, será plotado o Histograma."
      ],
      "metadata": {
        "id": "Ax3_50j60FEQ"
      }
    },
    {
      "cell_type": "code",
      "source": [
        "#Plotar o Histograma das Variáveis Numéricas\n",
        "df.hist(bins=5, figsize=(15,10));"
      ],
      "metadata": {
        "id": "Hku6UXqd0Xha",
        "outputId": "7bee7480-1348-42a0-9b9f-f4444ef9332b",
        "colab": {
          "base_uri": "https://localhost:8080/",
          "height": 607
        }
      },
      "execution_count": null,
      "outputs": [
        {
          "output_type": "display_data",
          "data": {
            "image/png": "[encoded data removed]",
            "text/plain": [
              "<Figure size 1080x720 with 16 Axes>"
            ]
          },
          "metadata": {
            "needs_background": "light"
          }
        }
      ]
    },
    {
      "cell_type": "markdown",
      "source": [
        "# **Q4. Há Outliers Presentes?**\n",
        "O Histograma apresenta índicios de Outtliers. \n",
        "Váriáveis que são seguem uma distribuição, distorcem o Gráfico. Para se ter a confirmação, há 2 maneiras de identificá-los:\n",
        "*   Resumo Estatístico por meio do Método *describe()*\n",
        "*   Plotar *boxplots* para a varivável"
      ],
      "metadata": {
        "id": "uBuDbGL51Eo7"
      }
    },
    {
      "cell_type": "code",
      "source": [
        "#Ver o Resumo estatístico das Variáveis Numéricas\n",
        "#Caso usasse df.describer() estaria trazendo as informações de todas as Váriaveis, o que não interessa\n",
        "df[['price', 'minimum_nights', 'number_of_reviews', 'reviews_per_month', 'calculated_host_listings_count', 'availability_365', 'number_of_reviews_ltm']].describe()"
      ],
      "metadata": {
        "id": "Vu5Q2FH410ZP",
        "outputId": "352c34c0-9738-4e1a-e916-ba10d3daaad7",
        "colab": {
          "base_uri": "https://localhost:8080/",
          "height": 364
        }
      },
      "execution_count": null,
      "outputs": [
        {
          "output_type": "execute_result",
          "data": {
            "text/html": [
              "\n",
              "  <div id=\"df-9564078f-2bd6-4c03-8d08-db343ae59748\">\n",
              "    <div class=\"colab-df-container\">\n",
              "      <div>\n",
              "<style scoped>\n",
              "    .dataframe tbody tr th:only-of-type {\n",
              "        vertical-align: middle;\n",
              "    }\n",
              "\n",
              "    .dataframe tbody tr th {\n",
              "        vertical-align: top;\n",
              "    }\n",
              "\n",
              "    .dataframe thead th {\n",
              "        text-align: right;\n",
              "    }\n",
              "</style>\n",
              "<table border=\"1\" class=\"dataframe\">\n",
              "  <thead>\n",
              "    <tr style=\"text-align: right;\">\n",
              "      <th></th>\n",
              "      <th>price</th>\n",
              "      <th>minimum_nights</th>\n",
              "      <th>number_of_reviews</th>\n",
              "      <th>reviews_per_month</th>\n",
              "      <th>calculated_host_listings_count</th>\n",
              "      <th>availability_365</th>\n",
              "      <th>number_of_reviews_ltm</th>\n",
              "    </tr>\n",
              "  </thead>\n",
              "  <tbody>\n",
              "    <tr>\n",
              "      <th>count</th>\n",
              "      <td>23359.000000</td>\n",
              "      <td>23359.000000</td>\n",
              "      <td>23359.000000</td>\n",
              "      <td>15107.000000</td>\n",
              "      <td>23359.000000</td>\n",
              "      <td>23359.000000</td>\n",
              "      <td>23359.000000</td>\n",
              "    </tr>\n",
              "    <tr>\n",
              "      <th>mean</th>\n",
              "      <td>729.485509</td>\n",
              "      <td>5.316152</td>\n",
              "      <td>14.398990</td>\n",
              "      <td>0.674982</td>\n",
              "      <td>6.990154</td>\n",
              "      <td>223.666039</td>\n",
              "      <td>3.360375</td>\n",
              "    </tr>\n",
              "    <tr>\n",
              "      <th>std</th>\n",
              "      <td>4977.724917</td>\n",
              "      <td>22.583058</td>\n",
              "      <td>33.709045</td>\n",
              "      <td>0.930358</td>\n",
              "      <td>20.616919</td>\n",
              "      <td>131.739668</td>\n",
              "      <td>8.125931</td>\n",
              "    </tr>\n",
              "    <tr>\n",
              "      <th>min</th>\n",
              "      <td>0.000000</td>\n",
              "      <td>1.000000</td>\n",
              "      <td>0.000000</td>\n",
              "      <td>0.010000</td>\n",
              "      <td>1.000000</td>\n",
              "      <td>0.000000</td>\n",
              "      <td>0.000000</td>\n",
              "    </tr>\n",
              "    <tr>\n",
              "      <th>25%</th>\n",
              "      <td>160.000000</td>\n",
              "      <td>1.000000</td>\n",
              "      <td>0.000000</td>\n",
              "      <td>0.090000</td>\n",
              "      <td>1.000000</td>\n",
              "      <td>89.000000</td>\n",
              "      <td>0.000000</td>\n",
              "    </tr>\n",
              "    <tr>\n",
              "      <th>50%</th>\n",
              "      <td>286.000000</td>\n",
              "      <td>3.000000</td>\n",
              "      <td>2.000000</td>\n",
              "      <td>0.300000</td>\n",
              "      <td>1.000000</td>\n",
              "      <td>256.000000</td>\n",
              "      <td>0.000000</td>\n",
              "    </tr>\n",
              "    <tr>\n",
              "      <th>75%</th>\n",
              "      <td>561.000000</td>\n",
              "      <td>4.000000</td>\n",
              "      <td>11.000000</td>\n",
              "      <td>0.950000</td>\n",
              "      <td>3.000000</td>\n",
              "      <td>359.000000</td>\n",
              "      <td>2.000000</td>\n",
              "    </tr>\n",
              "    <tr>\n",
              "      <th>max</th>\n",
              "      <td>637760.000000</td>\n",
              "      <td>1000.000000</td>\n",
              "      <td>494.000000</td>\n",
              "      <td>24.350000</td>\n",
              "      <td>179.000000</td>\n",
              "      <td>365.000000</td>\n",
              "      <td>250.000000</td>\n",
              "    </tr>\n",
              "  </tbody>\n",
              "</table>\n",
              "</div>\n",
              "      <button class=\"colab-df-convert\" onclick=\"convertToInteractive('df-9564078f-2bd6-4c03-8d08-db343ae59748')\"\n",
              "              title=\"Convert this dataframe to an interactive table.\"\n",
              "              style=\"display:none;\">\n",
              "        \n",
              "  <svg xmlns=\"http://www.w3.org/2000/svg\" height=\"24px\"viewBox=\"0 0 24 24\"\n",
              "       width=\"24px\">\n",
              "    <path d=\"M0 0h24v24H0V0z\" fill=\"none\"/>\n",
              "    <path d=\"M18.56 5.44l.94 2.06.94-2.06 2.06-.94-2.06-.94-.94-2.06-.94 2.06-2.06.94zm-11 1L8.5 8.5l.94-2.06 2.06-.94-2.06-.94L8.5 2.5l-.94 2.06-2.06.94zm10 10l.94 2.06.94-2.06 2.06-.94-2.06-.94-.94-2.06-.94 2.06-2.06.94z\"/><path d=\"M17.41 7.96l-1.37-1.37c-.4-.4-.92-.59-1.43-.59-.52 0-1.04.2-1.43.59L10.3 9.45l-7.72 7.72c-.78.78-.78 2.05 0 2.83L4 21.41c.39.39.9.59 1.41.59.51 0 1.02-.2 1.41-.59l7.78-7.78 2.81-2.81c.8-.78.8-2.07 0-2.86zM5.41 20L4 18.59l7.72-7.72 1.47 1.35L5.41 20z\"/>\n",
              "  </svg>\n",
              "      </button>\n",
              "      \n",
              "  <style>\n",
              "    .colab-df-container {\n",
              "      display:flex;\n",
              "      flex-wrap:wrap;\n",
              "      gap: 12px;\n",
              "    }\n",
              "\n",
              "    .colab-df-convert {\n",
              "      background-color: #E8F0FE;\n",
              "      border: none;\n",
              "      border-radius: 50%;\n",
              "      cursor: pointer;\n",
              "      display: none;\n",
              "      fill: #1967D2;\n",
              "      height: 32px;\n",
              "      padding: 0 0 0 0;\n",
              "      width: 32px;\n",
              "    }\n",
              "\n",
              "    .colab-df-convert:hover {\n",
              "      background-color: #E2EBFA;\n",
              "      box-shadow: 0px 1px 2px rgba(60, 64, 67, 0.3), 0px 1px 3px 1px rgba(60, 64, 67, 0.15);\n",
              "      fill: #174EA6;\n",
              "    }\n",
              "\n",
              "    [theme=dark] .colab-df-convert {\n",
              "      background-color: #3B4455;\n",
              "      fill: #D2E3FC;\n",
              "    }\n",
              "\n",
              "    [theme=dark] .colab-df-convert:hover {\n",
              "      background-color: #434B5C;\n",
              "      box-shadow: 0px 1px 3px 1px rgba(0, 0, 0, 0.15);\n",
              "      filter: drop-shadow(0px 1px 2px rgba(0, 0, 0, 0.3));\n",
              "      fill: #FFFFFF;\n",
              "    }\n",
              "  </style>\n",
              "\n",
              "      <script>\n",
              "        const buttonEl =\n",
              "          document.querySelector('#df-9564078f-2bd6-4c03-8d08-db343ae59748 button.colab-df-convert');\n",
              "        buttonEl.style.display =\n",
              "          google.colab.kernel.accessAllowed ? 'block' : 'none';\n",
              "\n",
              "        async function convertToInteractive(key) {\n",
              "          const element = document.querySelector('#df-9564078f-2bd6-4c03-8d08-db343ae59748');\n",
              "          const dataTable =\n",
              "            await google.colab.kernel.invokeFunction('convertToInteractive',\n",
              "                                                     [key], {});\n",
              "          if (!dataTable) return;\n",
              "\n",
              "          const docLinkHtml = 'Like what you see? Visit the ' +\n",
              "            '<a target=\"_blank\" href=https://colab.research.google.com/notebooks/data_table.ipynb>data table notebook</a>'\n",
              "            + ' to learn more about interactive tables.';\n",
              "          element.innerHTML = '';\n",
              "          dataTable['output_type'] = 'display_data';\n",
              "          await google.colab.output.renderOutput(dataTable, element);\n",
              "          const docLink = document.createElement('div');\n",
              "          docLink.innerHTML = docLinkHtml;\n",
              "          element.appendChild(docLink);\n",
              "        }\n",
              "      </script>\n",
              "    </div>\n",
              "  </div>\n",
              "  "
            ],
            "text/plain": [
              "               price  minimum_nights  ...  availability_365  number_of_reviews_ltm\n",
              "count   23359.000000    23359.000000  ...      23359.000000           23359.000000\n",
              "mean      729.485509        5.316152  ...        223.666039               3.360375\n",
              "std      4977.724917       22.583058  ...        131.739668               8.125931\n",
              "min         0.000000        1.000000  ...          0.000000               0.000000\n",
              "25%       160.000000        1.000000  ...         89.000000               0.000000\n",
              "50%       286.000000        3.000000  ...        256.000000               0.000000\n",
              "75%       561.000000        4.000000  ...        359.000000               2.000000\n",
              "max    637760.000000     1000.000000  ...        365.000000             250.000000\n",
              "\n",
              "[8 rows x 7 columns]"
            ]
          },
          "metadata": {},
          "execution_count": 31
        }
      ]
    },
    {
      "cell_type": "markdown",
      "source": [
        "#Boxplot para Minimum_nights"
      ],
      "metadata": {
        "id": "zi8yWzcr3tYC"
      }
    },
    {
      "cell_type": "code",
      "source": [
        "# minimum_Nights\n",
        "df.minimum_nights.plot(kind='box', vert=False, figsize=(15, 3))\n",
        "plt.show()\n",
        "\n",
        "# ver quantidade de valores acima de 30 dias\n",
        "print(\"minimum_nights: valores acima de 30:\")\n",
        "print(\"{} entradas\".format(len(df[df.minimum_nights > 30])))\n",
        "print(\"{:.4f}%\".format((len(df[df.minimum_nights > 30 ]) / df.shape[0])*100))"
      ],
      "metadata": {
        "id": "jAwWMU-Y35b7",
        "outputId": "cf52e3de-bdba-4b00-daf7-670e961c17c6",
        "colab": {
          "base_uri": "https://localhost:8080/",
          "height": 263
        }
      },
      "execution_count": null,
      "outputs": [
        {
          "output_type": "display_data",
          "data": {
            "image/png": "[encoded data removed]",
            "text/plain": [
              "<Figure size 1080x216 with 1 Axes>"
            ]
          },
          "metadata": {
            "needs_background": "light"
          }
        },
        {
          "output_type": "stream",
          "name": "stdout",
          "text": [
            "minimum_nights: valores acima de 30:\n",
            "264 entradas\n",
            "1.1302%\n"
          ]
        }
      ]
    },
    {
      "cell_type": "code",
      "source": [
        "# ver Valores acima de 1500 para price\n",
        "df.price.plot(kind='box', vert=False, figsize=(15, 3),)\n",
        "plt.show()\n",
        "print(\"\\nprice: valores acima de 1500:\")\n",
        "print(\"{} entradas\".format(len(df[df.price > 1500])))\n",
        "print(\"{:.4f}%\".format((len(df[df.price > 1500 ]) / df.shape[0])*100))"
      ],
      "metadata": {
        "id": "ceukQWM87QhG",
        "outputId": "63dc9dfc-bf44-4fb0-c6ca-bf29b1b74256",
        "colab": {
          "base_uri": "https://localhost:8080/",
          "height": 280
        }
      },
      "execution_count": null,
      "outputs": [
        {
          "output_type": "display_data",
          "data": {
            "image/png": "[encoded data removed]",
            "text/plain": [
              "<Figure size 1080x216 with 1 Axes>"
            ]
          },
          "metadata": {
            "needs_background": "light"
          }
        },
        {
          "output_type": "stream",
          "name": "stdout",
          "text": [
            "\n",
            "price: valores acima de 1500:\n",
            "1677 entradas\n",
            "7.1792%\n"
          ]
        }
      ]
    },
    {
      "cell_type": "markdown",
      "source": [
        "**Histogramas sem outliers**\n",
        "Como identificamos outliers nas variáveis *price* e *minimum_nights*, vamos limpar o DataFrame e plotar novamente o Histograma."
      ],
      "metadata": {
        "id": "RttF5laZ9DMN"
      }
    },
    {
      "cell_type": "code",
      "source": [
        "# Remover os *outliers* em um novo DataFrame\n",
        "df_clean = df.copy()\n",
        "df_clean.drop(df_clean[df_clean.price > 1500].index, axis=0, inplace=True)\n",
        "df_clean.drop(df_clean[df_clean.minimum_nights > 30].index, axis=0, inplace=True)\n",
        "\n",
        "# Remover caso houvesse Váriáveis vazias usaria o código\n",
        "# <df_clean.drop('neighbourhood_group', axis=1, inplace=True)>\n",
        "\n",
        "# plotar o Histograma para as Variáveis Numéricas\n",
        "df_clean.hist(bins=15, figsize=(15,10));"
      ],
      "metadata": {
        "id": "j413pR0x9YY7",
        "outputId": "f3c8002e-2ddb-4eb6-f6e5-bf1696cbd26f",
        "colab": {
          "base_uri": "https://localhost:8080/",
          "height": 607
        }
      },
      "execution_count": null,
      "outputs": [
        {
          "output_type": "display_data",
          "data": {
            "image/png": "[encoded data removed]",
            "text/plain": [
              "<Figure size 1080x720 with 16 Axes>"
            ]
          },
          "metadata": {
            "needs_background": "light"
          }
        }
      ]
    },
    {
      "cell_type": "code",
      "source": [
        ""
      ],
      "metadata": {
        "id": "lfv3goxSyzRD"
      },
      "execution_count": null,
      "outputs": []
    },
    {
      "cell_type": "code",
      "source": [
        ""
      ],
      "metadata": {
        "id": "2gpVQU31vyGE"
      },
      "execution_count": null,
      "outputs": []
    }
  ],
  "metadata": {
    "colab": {
      "collapsed_sections": [],
      "name": "Projeto 1 - Analisando os Dados do Airbnb - Rio de Janeiro",
      "provenance": [],
      "include_colab_link": true
    },
    "kernelspec": {
      "display_name": "Python 3",
      "name": "python3"
    }
  },
  "nbformat": 4,
  "nbformat_minor": 0
}